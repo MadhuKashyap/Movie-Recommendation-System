import numpy as np
import pandas as pd
from sklearn.feature_extraction.text import CountVectorizer
from sklearn.metrics.pairwise import cosine_similarity

df = pd.read_csv("movie_dataset.csv")
df.head()

features = ['genres', 'keywords', 'cast', 'director' ]
for feature in features:
    df[feature] = df[feature].fillna(" ")
    
def combine_features(row):
    return (row['keywords'] + " " + row['genres'] + " " + row['cast'] + " " + row['director'])

df["Combined_features"] = df.apply(combine_features, axis = 1)

cv = CountVectorizer()
count_matrix = cv.fit_transform(df["Combined_features"])

cos_sim = cosine_similarity(count_matrix)

movie_user_likes = "Titanic"

def get_index_from_title(title):
    return (df[df.title == title]["index"].values[0])

movie_index = get_index_from_title(movie_user_likes)

similar_movies = list(enumerate(cos_sim[movie_index]))

sorted_similar_movies = sorted(similar_movies, key = lambda x:x[1], reverse = True)

def get_title_from_index(index):
    return df[df.index == index]["title"].values[0]
i = 0
for movie in sorted_similar_movies:
    print (get_title_from_index(movie[0]))
    i = i+1
    if i == 20:
        break
